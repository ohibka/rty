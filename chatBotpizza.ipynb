{
  "cells": [
    {
      "cell_type": "markdown",
      "metadata": {
        "id": "view-in-github",
        "colab_type": "text"
      },
      "source": [
        "<a href=\"https://colab.research.google.com/github/ohibka/rty/blob/main/chatBotpizza.ipynb\" target=\"_parent\"><img src=\"https://colab.research.google.com/assets/colab-badge.svg\" alt=\"Open In Colab\"/></a>"
      ]
    },
    {
      "cell_type": "markdown",
      "metadata": {
        "id": "OXc87N7o-Xfy"
      },
      "source": []
    },
    {
      "cell_type": "code",
      "source": [
        "python\n",
        "from telegram.ext import Updater, CommandHandler, MessageHandler, Filters, CallbackQueryHandler, ConversationHandler\n",
        "from telegram import ParseMode, ReplyKeyboardMarkup, ReplyKeyboardRemove, InlineKeyboardButton, InlineKeyboardMarkup\n",
        "\n",
        "# Global variables\n",
        "pizzas = {\n",
        "    'margarita': {'name': '🍅 Маргарита', 'price': 100},\n",
        "    'pepperoni': {'name': '🍕 Пепперони', 'price': 150},\n",
        "    'hawaiian': {'name': '🍍 Гавайская', 'price': 200},\n",
        "    'vegetarian': {'name': '🥦 Вегетарианская', 'price': 180},\n",
        "}\n",
        "\n",
        "sizes = {'small': {'name': '🔹 Маленькая', 'price_multiplier': 1},\n",
        "    'medium': {'name': '🔸 Средняя', 'price_multiplier': 1.5},\n",
        "    'large': {'name': '🔶 Большая', 'price_multiplier': 2},\n",
        "}\n",
        "\n",
        "# Steps\n",
        "SELECTING_PIZZA, SELECTING_SIZE, ENTERING_ADDRESS = range(3)\n",
        "\n",
        "# Handler functions\n",
        "def start(update, context):\n",
        "    user = update.effective_user\n",
        "    context.bot.send_message(chat_id=user.id, text=f'Здравствуйте, {user.first_name}! Выберите пиццу из списка.')\n",
        "\n",
        "    pizza_buttons = [InlineKeyboardButton(pizza['name'], callback_data=f'pizza_{pizza_id}')\n",
        "                     for pizza_id, pizza in pizzas.items()]\n",
        "    pizza_markup = InlineKeyboardMarkup.from_column(pizza_buttons)\n",
        "\n",
        "    context.user_data.clear()\n",
        "    context.user_data['pizza_id'] = None\n",
        "    context.user_data['size_id'] = None\n",
        "    update.message.reply_text(text='Выберите пиццу:', reply_markup=pizza_markup)\n",
        "    return SELECTING_PIZZA\n",
        "\n",
        "def select_pizza(update, context):\n",
        "    query = update.callback_query\n",
        "    pizza_id = query.data.split('_')[-1]\n",
        "    context.user_data['pizza_id'] = pizza_id\n",
        "    query.edit_message_text(text='Выберите размер пиццы')\n",
        "\n",
        "    size_buttons = [InlineKeyboardButton(size['name'], callback_data=f'size_{size_id}')\n",
        "                    for size_id, size in sizes.items()]\n",
        "    size_markup = InlineKeyboardMarkup.from_column(size_buttons)\n",
        "\n",
        "    return SELECTING_SIZE\n",
        "\n",
        "def select_size(update, context):\n",
        "    query = update.callback_query\n",
        "    size_id = query.data.split('_')[-1]\n",
        "    context.user_data['size_id'] = size_id\n",
        "\n",
        "    query.edit_message_text(\n",
        "        text='Введите адрес доставки',\n",
        "        reply_markup=ReplyKeyboardMarkup([['Отменить']], one_time_keyboard=True),\n",
        "    )\n",
        "\n",
        "    return ENTERING_ADDRESS\n",
        "\n",
        "def enter_address(update, context):\n",
        "    user_input = update.message.text\n",
        "    chat_id = update.message.chat_id\n",
        "    if user_input == 'Отменить':\n",
        "        context.bot.send_message(chat_id=chat_id, text='Заказ отменен.')\n",
        "        return ConversationHandler.END\n",
        "\n",
        "    pizza_id = context.user_data['pizza_id']\n",
        "    size_id = context.user_data['size_id']\n",
        "\n",
        "    invalid_address_message = 'Адрес доставки введен не корректно. Введите адрес еще раз.'\n",
        "    if len(user_input) <= 5:\n",
        "        context.bot.send_message(chat_id=chat_id, text=invalid_address_message)\n",
        "        return ENTERING_ADDRESS\n",
        "\n",
        "    pizza = pizzas.get(pizza_id)\n",
        "    size = sizes.get(size_id)\n",
        "    price = pizza.get('price', 0) * size.get('price_multiplier', 1)\n",
        "\n",
        "    message_text = f'Спасибо за ваш заказ: {pizza.get(\"name\")}, {size.get(\"name\")} размер!\\nАдрес доставки: {user_input}\\nЦена: {price} руб.'\n",
        "    context.bot.send_message(chat_id=chat_id, text=message_text)\n",
        "\n",
        "    context.user_data.clear()\n",
        "    return ConversationHandler.END\n",
        "\n",
        "def cancel_order(update, context):\n",
        "    chat_id = update.message.chat_id\n",
        "    context.bot.send_message(chat_id=chat_id, text='Заказ отменен.')\n",
        "    context.user_data.clear()\n",
        "    return ConversationHandler.END\n",
        "\n",
        "def main():\n",
        "    updater = Updater(token='TOKEN', use_context=True)\n",
        "\n",
        "    reorder_keyboard = ReplyKeyboardMarkup([['🔁 Повторить заказ']])\n",
        "    convo_handler = ConversationHandler(\n",
        "        entry_points=[CommandHandler('start', start)],\n",
        "        states={\n",
        "            SELECTING_PIZZA: [CallbackQueryHandler(select_pizza, pattern='^pizza_')],\n",
        "            SELECTING_SIZE: [CallbackQueryHandler(select_size, pattern='^size_')],\n",
        "            ENTERING_ADDRESS: [\n",
        "                MessageHandler(Filters.text, enter_address),\n",
        "                MessageHandler(Filters.regex('^Отменить$'), cancel_order),\n",
        "            ]\n",
        "        },\n",
        "        fallbacks=[MessageHandler(Filters.regex('^🔁 Повторить заказ$'), start)],\n",
        "allow_reentry=True\n",
        "    )\n",
        "\n",
        "    updater.dispatcher.add_handler(convo_handler)\n",
        "    updater.start_polling()\n",
        "\n",
        "if __name__ == '__main__':\n",
        "    main()\n"
      ],
      "metadata": {
        "colab": {
          "base_uri": "https://localhost:8080/",
          "height": 235
        },
        "id": "aiK-osgtDG4l",
        "outputId": "2bc116ce-de6c-4b70-e7dd-de970016113f"
      },
      "execution_count": 2,
      "outputs": [
        {
          "output_type": "error",
          "ename": "NameError",
          "evalue": "ignored",
          "traceback": [
            "\u001b[0;31m---------------------------------------------------------------------------\u001b[0m",
            "\u001b[0;31mNameError\u001b[0m                                 Traceback (most recent call last)",
            "\u001b[0;32m<ipython-input-2-29d0bac971b6>\u001b[0m in \u001b[0;36m<cell line: 1>\u001b[0;34m()\u001b[0m\n\u001b[0;32m----> 1\u001b[0;31m \u001b[0mpython\u001b[0m\u001b[0;34m\u001b[0m\u001b[0;34m\u001b[0m\u001b[0m\n\u001b[0m\u001b[1;32m      2\u001b[0m \u001b[0;32mfrom\u001b[0m \u001b[0mtelegram\u001b[0m\u001b[0;34m.\u001b[0m\u001b[0mext\u001b[0m \u001b[0;32mimport\u001b[0m \u001b[0mUpdater\u001b[0m\u001b[0;34m,\u001b[0m \u001b[0mCommandHandler\u001b[0m\u001b[0;34m,\u001b[0m \u001b[0mMessageHandler\u001b[0m\u001b[0;34m,\u001b[0m \u001b[0mFilters\u001b[0m\u001b[0;34m,\u001b[0m \u001b[0mCallbackQueryHandler\u001b[0m\u001b[0;34m,\u001b[0m \u001b[0mConversationHandler\u001b[0m\u001b[0;34m\u001b[0m\u001b[0;34m\u001b[0m\u001b[0m\n\u001b[1;32m      3\u001b[0m \u001b[0;32mfrom\u001b[0m \u001b[0mtelegram\u001b[0m \u001b[0;32mimport\u001b[0m \u001b[0mParseMode\u001b[0m\u001b[0;34m,\u001b[0m \u001b[0mReplyKeyboardMarkup\u001b[0m\u001b[0;34m,\u001b[0m \u001b[0mReplyKeyboardRemove\u001b[0m\u001b[0;34m,\u001b[0m \u001b[0mInlineKeyboardButton\u001b[0m\u001b[0;34m,\u001b[0m \u001b[0mInlineKeyboardMarkup\u001b[0m\u001b[0;34m\u001b[0m\u001b[0;34m\u001b[0m\u001b[0m\n\u001b[1;32m      4\u001b[0m \u001b[0;34m\u001b[0m\u001b[0m\n\u001b[1;32m      5\u001b[0m \u001b[0;31m# Global variables\u001b[0m\u001b[0;34m\u001b[0m\u001b[0;34m\u001b[0m\u001b[0m\n",
            "\u001b[0;31mNameError\u001b[0m: name 'python' is not defined"
          ]
        }
      ]
    }
  ],
  "metadata": {
    "colab": {
      "provenance": [],
      "include_colab_link": true
    },
    "kernelspec": {
      "display_name": "Python 3",
      "name": "python3"
    },
    "language_info": {
      "name": "python"
    }
  },
  "nbformat": 4,
  "nbformat_minor": 0
}
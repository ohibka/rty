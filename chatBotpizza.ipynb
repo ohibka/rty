{
  "cells": [
    {
      "cell_type": "markdown",
      "metadata": {
        "id": "view-in-github",
        "colab_type": "text"
      },
      "source": [
        "<a href=\"https://colab.research.google.com/github/ohibka/rty/blob/main/chatBotpizza.ipynb\" target=\"_parent\"><img src=\"https://colab.research.google.com/assets/colab-badge.svg\" alt=\"Open In Colab\"/></a>"
      ]
    },
    {
      "cell_type": "code",
      "execution_count": null,
      "metadata": {
        "colab": {
          "base_uri": "https://localhost:8080/"
        },
        "id": "Dargic04rk-w",
        "outputId": "93856a97-047e-4625-ea67-aa02c928d918"
      },
      "outputs": [
        {
          "output_type": "stream",
          "name": "stdout",
          "text": [
            "Looking in indexes: https://pypi.org/simple, https://us-python.pkg.dev/colab-wheels/public/simple/\n",
            "Collecting pyTelegramBotAPI\n",
            "  Downloading pyTelegramBotAPI-4.12.0.tar.gz (232 kB)\n",
            "\u001b[?25l     \u001b[90m━━━━━━━━━━━━━━━━━━━━━━━━━━━━━━━━━━━━━━━━\u001b[0m \u001b[32m0.0/232.0 kB\u001b[0m \u001b[31m?\u001b[0m eta \u001b[36m-:--:--\u001b[0m\r\u001b[2K     \u001b[91m━━━━━━━━━━━━━━━━━━━━━━━━━━━━━━━━━━━━━\u001b[0m\u001b[91m╸\u001b[0m\u001b[90m━\u001b[0m \u001b[32m225.3/232.0 kB\u001b[0m \u001b[31m8.2 MB/s\u001b[0m eta \u001b[36m0:00:01\u001b[0m\r\u001b[2K     \u001b[90m━━━━━━━━━━━━━━━━━━━━━━━━━━━━━━━━━━━━━━━\u001b[0m \u001b[32m232.0/232.0 kB\u001b[0m \u001b[31m6.1 MB/s\u001b[0m eta \u001b[36m0:00:00\u001b[0m\n",
            "\u001b[?25h  Preparing metadata (setup.py) ... \u001b[?25l\u001b[?25hdone\n",
            "Requirement already satisfied: requests in /usr/local/lib/python3.10/dist-packages (from pyTelegramBotAPI) (2.27.1)\n",
            "Requirement already satisfied: urllib3<1.27,>=1.21.1 in /usr/local/lib/python3.10/dist-packages (from requests->pyTelegramBotAPI) (1.26.15)\n",
            "Requirement already satisfied: certifi>=2017.4.17 in /usr/local/lib/python3.10/dist-packages (from requests->pyTelegramBotAPI) (2022.12.7)\n",
            "Requirement already satisfied: charset-normalizer~=2.0.0 in /usr/local/lib/python3.10/dist-packages (from requests->pyTelegramBotAPI) (2.0.12)\n",
            "Requirement already satisfied: idna<4,>=2.5 in /usr/local/lib/python3.10/dist-packages (from requests->pyTelegramBotAPI) (3.4)\n",
            "Building wheels for collected packages: pyTelegramBotAPI\n",
            "  Building wheel for pyTelegramBotAPI (setup.py) ... \u001b[?25l\u001b[?25hdone\n",
            "  Created wheel for pyTelegramBotAPI: filename=pyTelegramBotAPI-4.12.0-py3-none-any.whl size=213956 sha256=4949db741e9e1e99abbb4b5653082993dfcead96f9c200f03572d5d022a6e165\n",
            "  Stored in directory: /root/.cache/pip/wheels/7e/ba/82/f3ab5bc48525778633bccc741c0424677ed3435736221819f4\n",
            "Successfully built pyTelegramBotAPI\n",
            "Installing collected packages: pyTelegramBotAPI\n",
            "Successfully installed pyTelegramBotAPI-4.12.0\n",
            "Looking in indexes: https://pypi.org/simple, https://us-python.pkg.dev/colab-wheels/public/simple/\n",
            "Collecting telebot\n",
            "  Downloading telebot-0.0.5-py3-none-any.whl (4.8 kB)\n",
            "Requirement already satisfied: pyTelegramBotAPI in /usr/local/lib/python3.10/dist-packages (from telebot) (4.12.0)\n",
            "Requirement already satisfied: requests in /usr/local/lib/python3.10/dist-packages (from telebot) (2.27.1)\n",
            "Requirement already satisfied: urllib3<1.27,>=1.21.1 in /usr/local/lib/python3.10/dist-packages (from requests->telebot) (1.26.15)\n",
            "Requirement already satisfied: certifi>=2017.4.17 in /usr/local/lib/python3.10/dist-packages (from requests->telebot) (2022.12.7)\n",
            "Requirement already satisfied: charset-normalizer~=2.0.0 in /usr/local/lib/python3.10/dist-packages (from requests->telebot) (2.0.12)\n",
            "Requirement already satisfied: idna<4,>=2.5 in /usr/local/lib/python3.10/dist-packages (from requests->telebot) (3.4)\n",
            "Installing collected packages: telebot\n",
            "Successfully installed telebot-0.0.5\n"
          ]
        }
      ],
      "source": [
        "! python3 -m pip install pyTelegramBotAPI\n",
        "! python3 -m pip install telebot\n",
        "\n",
        "import telebot\n",
        "import nltk\n",
        "from nltk.tokenize import word_tokenize\n",
        "\n",
        "bot = telebot.TeleBot(\"6108610539:AAGcKKARSTL7ZKJnQts-_5G81ukjBlDKE2E\")\n",
        "\n",
        "# состояния диалога\n",
        "START, NAME, PIZZA_SIZE, PAYMENT, DELIVERY_ADDRESS, CONFIRMATION = range(6)\n",
        "state = START\n",
        "\n",
        "# переменные для хранения ответов пользователя\n",
        "user_name = \"\"\n",
        "pizza_size = \"\"\n",
        "payment_type = \"\"\n",
        "delivery_address = \"\"\n",
        "\n",
        "# обработка сообщений ботом\n",
        "@bot.message_handler(func=lambda message: True)\n",
        "def handle_message(message):\n",
        "    global state, user_name, pizza_size, payment_type, delivery_address\n",
        "\n",
        "    if state == START:\n",
        "        # начало диалога - задаем первый вопрос\n",
        "        bot.send_message(message.chat.id, \"Здравствуйте, мы доставка пиццы Stan! Как к вам обращаться?\")\n",
        "        state = NAME\n",
        "    elif state == NAME:\n",
        "        # получаем имя пользователя и задаем следующий вопрос\n",
        "        user_name = message.text\n",
        "        bot.send_message(message.chat.id, \"Какого размера вы хотите пиццу? Большую - такую как ваши возможности, среднюю - как ваша зарплата или маленькую - как уровень алкоголизма в вашей семье?)\")\n",
        "        state = PIZZA_SIZE\n",
        "    elif state == PIZZA_SIZE:\n",
        "        # получаем размер пиццы и задаем следующий вопрос\n",
        "        pizza_size = message.text\n",
        "        bot.send_message(message.chat.id, \"Оплата QR-кодом при получении или по СПБ онлайн?\")\n",
        "        state =  PAYMENT\n",
        "    elif state == PAYMENT:\n",
        "        # получаем тип оплаты и задаем следующий вопрос\n",
        "        payment_type = message.text\n",
        "        bot.send_message(message.chat.id, \"Адрес доставки?\")\n",
        "        state = DELIVERY_ADDRESS\n",
        "    elif state == DELIVERY_ADDRESS:\n",
        "        # получаем адрес доставки и задаем следующий вопрос для подтверждения заказаdelivery_address = message.text\n",
        "        delivery_address = message.text\n",
        "        message_text = f\"  Давайте уточним заказ, Вы хотите {pizza_size} пиццу, оплата – {payment_type}, доставить по адресу - {delivery_address}?\"\n",
        "        bot.send_message(message.chat.id, message_text)\n",
        "        state = CONFIRMATION\n",
        "    elif state == CONFIRMATION:\n",
        "        # получаем ответ пользователя на предыдущий вопрос и завершаем диалог\n",
        "        if message.text.lower().startswith(\"да\"):\n",
        "            bot.send_message(message.chat.id, f\"Спасибо за заказ, {user_name}! До новых встреч, ваш Stan!\")\n",
        "        else:\n",
        "            bot.send_message(message.chat.id, \"Отмена заказа.\")\n",
        "\n",
        "        # сбрасываем состояние диалога и переменные\n",
        "        state = START\n",
        "        user_name = \"\"\n",
        "        pizza_size = \"\"\n",
        "        payment_type = \"\"\n",
        "        delivery_address = \"\"\n",
        "\n",
        "# запуск бота\n",
        "bot.polling()"
      ]
    },
    {
      "cell_type": "markdown",
      "metadata": {
        "id": "OXc87N7o-Xfy"
      },
      "source": []
    }
  ],
  "metadata": {
    "colab": {
      "provenance": [],
      "include_colab_link": true
    },
    "kernelspec": {
      "display_name": "Python 3",
      "name": "python3"
    },
    "language_info": {
      "name": "python"
    }
  },
  "nbformat": 4,
  "nbformat_minor": 0
}